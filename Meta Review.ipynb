{
 "cells": [
  {
   "cell_type": "code",
   "execution_count": 1,
   "metadata": {
    "colab": {
     "base_uri": "https://localhost:8080/",
     "height": 142
    },
    "colab_type": "code",
    "id": "lLY6VG-WJw0T",
    "outputId": "2e40e766-876c-4147-aa17-3dd67cd12c59"
   },
   "outputs": [],
   "source": [
    "import os\n",
    "import numpy as np\n",
    "import pandas as pd\n",
    "import IPython.core.display         \n",
    "# setup output image format (Chrome works best)\n",
    "IPython.core.display.set_matplotlib_formats(\"svg\")\n",
    "import matplotlib.pyplot as plt\n",
    "import matplotlib.patheffects as PathEffects\n",
    "%matplotlib inline\n",
    "from numpy import *\n",
    "from sklearn import *\n",
    "from PSO_IBK2 import *\n",
    "import xgboost as xgb\n",
    "import lightgbm as lgb\n",
    "import catboost as cb\n",
    "import pickle\n",
    "import seaborn as sns\n",
    "sns.set_style('darkgrid')\n",
    "sns.set_palette('muted')\n",
    "sns.set_context(\"notebook\", font_scale=1.5, rc={\"lines.linewidth\": 2.5})\n",
    "import time\n",
    "from imblearn.over_sampling import SMOTE, SVMSMOTE, ADASYN, SMOTENC\n",
    "from imblearn.under_sampling import RandomUnderSampler\n",
    "from imblearn.combine import SMOTEENN, SMOTETomek\n",
    "from collections import Counter"
   ]
  },
  {
   "cell_type": "code",
   "execution_count": 2,
   "metadata": {
    "colab": {},
    "colab_type": "code",
    "id": "c7FB4LNwJw0a"
   },
   "outputs": [],
   "source": [
    "Ascent_whole = pd.read_csv ('Ascent.csv')"
   ]
  },
  {
   "cell_type": "code",
   "execution_count": 3,
   "metadata": {
    "colab": {},
    "colab_type": "code",
    "id": "RAALhFgPJw0d"
   },
   "outputs": [
    {
     "name": "stdout",
     "output_type": "stream",
     "text": [
      "(476, 119)\n"
     ]
    }
   ],
   "source": [
    "#Split X and Y\n",
    "AX= Ascent_whole.drop('DISCONT',axis=1)\n",
    "AY = Ascent_whole['DISCONT']\n",
    "print(AX.shape)"
   ]
  },
  {
   "cell_type": "code",
   "execution_count": 4,
   "metadata": {
    "colab": {},
    "colab_type": "code",
    "id": "Yhlhk2ZJJw0f"
   },
   "outputs": [],
   "source": [
    "Atrain, Atest, AtrainY, AtestY = model_selection.train_test_split(AX, AY, test_size = 0.3, random_state=42)"
   ]
  },
  {
   "cell_type": "code",
   "execution_count": 5,
   "metadata": {
    "colab": {},
    "colab_type": "code",
    "id": "UWBwNXs5Jw0h"
   },
   "outputs": [],
   "source": [
    "#Separate columns for encoding and scaling\n",
    "\n",
    "#Scale\n",
    "Atrain_to_scale = Atrain.select_dtypes(exclude = 'object')\n",
    "Atest_to_scale = Atest.select_dtypes(exclude = 'object')\n",
    "\n",
    "#Encode\n",
    "Atrain_to_encode = Atrain.select_dtypes('object')\n",
    "Atest_to_encode = Atest.select_dtypes('object')"
   ]
  },
  {
   "cell_type": "code",
   "execution_count": 6,
   "metadata": {
    "colab": {},
    "colab_type": "code",
    "id": "mWFpPfeAJw0j"
   },
   "outputs": [],
   "source": [
    "from sklearn.preprocessing import StandardScaler, OneHotEncoder\n",
    "scaler = StandardScaler()\n",
    "enc    = OneHotEncoder(handle_unknown='ignore',sparse=False)"
   ]
  },
  {
   "cell_type": "code",
   "execution_count": 7,
   "metadata": {
    "colab": {},
    "colab_type": "code",
    "id": "rAEqpauwJw0l"
   },
   "outputs": [],
   "source": [
    "#Scale\n",
    "Atrain_scale_columns_names = []\n",
    "for col in Atrain_to_scale.columns: \n",
    "    Atrain_scale_columns_names.append(col)\n",
    "Atest_scale_columns_names = []\n",
    "for col in Atest_to_scale.columns: \n",
    "    Atest_scale_columns_names.append(col)\n",
    "    \n",
    "#Encode    \n",
    "Atrain_encode_columns_names = []\n",
    "for col in Atrain_to_encode.columns: \n",
    "    Atrain_encode_columns_names.append(col)\n",
    "Atest_encode_columns_names = []\n",
    "for col in Atest_to_encode.columns: \n",
    "    Atest_encode_columns_names.append(col)"
   ]
  },
  {
   "cell_type": "code",
   "execution_count": 8,
   "metadata": {
    "colab": {},
    "colab_type": "code",
    "id": "PI0dhST9Jw0n"
   },
   "outputs": [],
   "source": [
    "# Scale and Encode Separate Columns\n",
    "#Scale\n",
    "scaler.fit(Atrain[Atrain_scale_columns_names]) \n",
    "Atrain_scaled_columns  = scaler.transform(Atrain[Atrain_scale_columns_names])\n",
    "Atest_scaled_columns  = scaler.transform(Atest[Atest_scale_columns_names])\n",
    "\n",
    "#Encode\n",
    "enc.fit(Atrain[Atrain_encode_columns_names])\n",
    "Atrain_encoded_columns = enc.transform((Atrain[Atrain_encode_columns_names]))\n",
    "Atest_encoded_columns = enc.transform(Atest[Atest_encode_columns_names])"
   ]
  },
  {
   "cell_type": "code",
   "execution_count": 9,
   "metadata": {
    "colab": {},
    "colab_type": "code",
    "id": "6JZewPn7Jw0q"
   },
   "outputs": [],
   "source": [
    "# Concatenate (Column-Bind) Processed Columns Back Together\n",
    "#Train\n",
    "New_Atrain = np.concatenate([Atrain_scaled_columns,Atrain_encoded_columns], axis=1)\n",
    "#Test\n",
    "New_Atest = np.concatenate([Atest_scaled_columns,Atest_encoded_columns], axis=1)"
   ]
  },
  {
   "cell_type": "code",
   "execution_count": 10,
   "metadata": {
    "colab": {
     "base_uri": "https://localhost:8080/",
     "height": 87
    },
    "colab_type": "code",
    "id": "PdhGqWizJw0s",
    "outputId": "0825cf3e-6bd5-44f5-852f-24c1163242c8"
   },
   "outputs": [
    {
     "name": "stdout",
     "output_type": "stream",
     "text": [
      "(333, 176) (143, 176)\n"
     ]
    }
   ],
   "source": [
    "print(New_Atrain.shape, New_Atest.shape)"
   ]
  },
  {
   "cell_type": "code",
   "execution_count": 11,
   "metadata": {
    "colab": {},
    "colab_type": "code",
    "id": "6J0wE2APJw0v"
   },
   "outputs": [],
   "source": [
    "KPCA = decomposition.KernelPCA(kernel= 'rbf', n_components=100) \n",
    "\n",
    "KPCA.fit(New_Atrain)\n",
    "Atrain = KPCA.transform(New_Atrain)\n",
    "Atest = KPCA.transform(New_Atest)"
   ]
  },
  {
   "cell_type": "code",
   "execution_count": 12,
   "metadata": {},
   "outputs": [
    {
     "name": "stdout",
     "output_type": "stream",
     "text": [
      "Counter({0: 258, 1: 75})\n"
     ]
    }
   ],
   "source": [
    "#Before SMOTE\n",
    "Acounter = Counter(AtrainY)\n",
    "print(Acounter)"
   ]
  },
  {
   "cell_type": "code",
   "execution_count": 13,
   "metadata": {},
   "outputs": [
    {
     "name": "stdout",
     "output_type": "stream",
     "text": [
      "Counter({0: 258, 1: 258})\n"
     ]
    }
   ],
   "source": [
    "#After SMOTE\n",
    "from collections import Counter\n",
    "sm =  SVMSMOTE(random_state = 42)\n",
    "\n",
    "Atrain, AtrainY = sm.fit_resample(Atrain, AtrainY)\n",
    "Acounter = Counter(AtrainY)\n",
    "print(Acounter)"
   ]
  },
  {
   "cell_type": "code",
   "execution_count": 14,
   "metadata": {
    "colab": {},
    "colab_type": "code",
    "id": "uD9sTKKrJw0x"
   },
   "outputs": [],
   "source": [
    "#Train\n",
    "Atrain = np.array(Atrain)\n",
    "AtrainY = np.array(AtrainY)\n",
    "\n",
    "#Test\n",
    "Atest = np.array(Atest)\n",
    "AtestY = np.array(AtestY)"
   ]
  },
  {
   "cell_type": "code",
   "execution_count": 15,
   "metadata": {
    "colab": {},
    "colab_type": "code",
    "id": "1Ifi_CkJJw0z"
   },
   "outputs": [],
   "source": [
    "AtrainY = np.array(pd.Categorical(AtrainY))\n",
    "AtestY = np.array(pd.Categorical(AtestY))\n",
    "\n",
    "AtrainY = np.array(AtrainY.astype(int))\n",
    "AtestY = np.array(AtestY.astype(int))"
   ]
  },
  {
   "cell_type": "code",
   "execution_count": 16,
   "metadata": {
    "colab": {
     "base_uri": "https://localhost:8080/",
     "height": 52
    },
    "colab_type": "code",
    "id": "y1juIA_nJw02",
    "outputId": "66a5cabe-7fc5-42e7-dac9-bda6c554ff02"
   },
   "outputs": [
    {
     "name": "stdout",
     "output_type": "stream",
     "text": [
      "AUC:  0.8536873156342182 AUPRC:  0.5827107171114151\n",
      "{'C': 10, 'kernel': 'rbf', 'probability': True, 'random_state': 42}\n"
     ]
    }
   ],
   "source": [
    "parameter = {'C': [10], 'probability':[True], 'kernel':['rbf'], 'random_state': [42]}\n",
    "aSV = model_selection.GridSearchCV(svm.SVC(),parameter, cv=5, n_jobs=-1)\n",
    "\n",
    "aSV.fit(Atrain, AtrainY)\n",
    "SAmodel = aSV.predict_proba(Atest)    \n",
    "SA_auc  = metrics.roc_auc_score(AtestY, SAmodel[:,1])\n",
    "SAfpr, SAtpr, SAthresholds = metrics.roc_curve(AtestY, SAmodel[:,1])\n",
    "SA_auprc  = metrics.average_precision_score(AtestY, SAmodel[:,1])\n",
    "SAr, SAp, SAthresholds1 = metrics.precision_recall_curve(AtestY, SAmodel[:,1])\n",
    "    \n",
    "print('AUC: ', SA_auc, 'AUPRC: ', SA_auprc)\n",
    "print(aSV.best_params_)"
   ]
  },
  {
   "cell_type": "code",
   "execution_count": 17,
   "metadata": {
    "colab": {
     "base_uri": "https://localhost:8080/",
     "height": 72
    },
    "colab_type": "code",
    "id": "feHn1pW5Jw1E",
    "outputId": "56c5a509-aa20-4ff3-aafd-0487632dfd82"
   },
   "outputs": [
    {
     "name": "stdout",
     "output_type": "stream",
     "text": [
      "AUC:  0.7452802359882006 AUPRC:  0.4316237416106499\n",
      "{'ccp_alpha': 0.0, 'max_depth': None, 'max_features': 'log2', 'n_estimators': 500, 'random_state': 42}\n"
     ]
    }
   ],
   "source": [
    "parameter = {'n_estimators': [500], 'max_depth': [None], 'ccp_alpha':[0.0], 'max_features': ['log2'], 'random_state': [42]}\n",
    "aRF = model_selection.GridSearchCV(ensemble.RandomForestClassifier(),parameter, cv=5, n_jobs=-1)\n",
    "\n",
    "aRF.fit(Atrain, AtrainY)\n",
    "RAmodel = aRF.predict_proba(Atest)    \n",
    "RAauc  = metrics.roc_auc_score(AtestY, RAmodel[:,1])\n",
    "RAfpr, RAtpr, RAthresholds = metrics.roc_curve(AtestY, RAmodel[:,1])\n",
    "RAauprc  = metrics.average_precision_score(AtestY, RAmodel[:,1])\n",
    "RAr, RAp, RAthresholds1 = metrics.precision_recall_curve(AtestY, RAmodel[:,1])\n",
    "    \n",
    "print('AUC: ', RAauc, 'AUPRC: ', RAauprc)\n",
    "print(aRF.best_params_)"
   ]
  },
  {
   "cell_type": "code",
   "execution_count": 18,
   "metadata": {
    "colab": {
     "base_uri": "https://localhost:8080/",
     "height": 52
    },
    "colab_type": "code",
    "id": "wWKY_wcTJw1M",
    "outputId": "db096615-548b-4119-fa0e-c20693753816"
   },
   "outputs": [
    {
     "name": "stdout",
     "output_type": "stream",
     "text": [
      "AUC:  0.7584070796460177 AUPRC:  0.47302697086354273\n",
      "{'learning_rate': 0.1, 'max_depth': -1, 'n_estimators': 500, 'random_state': 42}\n"
     ]
    }
   ],
   "source": [
    "parameter = {'n_estimators': [500], 'max_depth': [-1], 'learning_rate':[0.1], 'random_state': [42]}\n",
    "aLGB = model_selection.GridSearchCV(lgb.LGBMClassifier(),parameter, cv=5, n_jobs=-1)\n",
    "aLGB.fit(Atrain, AtrainY)\n",
    "\n",
    "LAmodel = aLGB.predict_proba(Atest)    \n",
    "LAauc  = metrics.roc_auc_score(AtestY, LAmodel[:,1])\n",
    "LAfpr, LAtpr, LAthresholds = metrics.roc_curve(AtestY, LAmodel[:,1])\n",
    "LAauprc  = metrics.average_precision_score(AtestY, LAmodel[:,1])\n",
    "LAr, LAp, LAthresholds1 = metrics.precision_recall_curve(AtestY, LAmodel[:,1])\n",
    "    \n",
    "print('AUC: ', LAauc, 'AUPRC: ', LAauprc)\n",
    "print(aLGB.best_params_)"
   ]
  },
  {
   "cell_type": "code",
   "execution_count": 19,
   "metadata": {
    "colab": {
     "base_uri": "https://localhost:8080/",
     "height": 52
    },
    "colab_type": "code",
    "id": "EfByVw9mJw1U",
    "outputId": "523fe5dd-b9fc-496b-86a9-26796ea8161a"
   },
   "outputs": [
    {
     "name": "stdout",
     "output_type": "stream",
     "text": [
      "AUC:  0.7474926253687316 AUPRC:  0.4134815149162482\n",
      "{'learning_rate': 0.5, 'max_depth': 4, 'n_estimators': 100, 'random_state': 42}\n"
     ]
    }
   ],
   "source": [
    "parameter = {'n_estimators': [100], 'max_depth': [4], 'learning_rate':[0.5], 'random_state': [42]}\n",
    "aXGB = model_selection.GridSearchCV(xgb.XGBClassifier(),parameter, cv=5, n_jobs=-1)\n",
    "aXGB.fit(Atrain, AtrainY)\n",
    "\n",
    "XAmodel = aXGB.predict_proba(Atest)    \n",
    "XAauc  = metrics.roc_auc_score(AtestY, XAmodel[:,1])\n",
    "XAfpr, XAtpr, XAthresholds = metrics.roc_curve(AtestY, XAmodel[:,1])\n",
    "XAauprc  = metrics.average_precision_score(AtestY, XAmodel[:,1])\n",
    "XAr, XAp, XAthresholds1 = metrics.precision_recall_curve(AtestY, XAmodel[:,1])\n",
    "    \n",
    "print('AUC: ', XAauc, 'AUPRC: ', XAauprc)\n",
    "print(aXGB.best_params_)"
   ]
  },
  {
   "cell_type": "code",
   "execution_count": 20,
   "metadata": {
    "colab": {
     "base_uri": "https://localhost:8080/",
     "height": 1000
    },
    "colab_type": "code",
    "id": "VXEwgQYeJw1c",
    "outputId": "a6231566-909e-47b8-acb6-34d995a5edea"
   },
   "outputs": [
    {
     "name": "stdout",
     "output_type": "stream",
     "text": [
      "0:\tlearn: 0.6568132\ttotal: 150ms\tremaining: 1m 14s\n",
      "1:\tlearn: 0.6336493\ttotal: 153ms\tremaining: 38.2s\n",
      "2:\tlearn: 0.6059699\ttotal: 158ms\tremaining: 26.1s\n",
      "3:\tlearn: 0.5868790\ttotal: 162ms\tremaining: 20.1s\n",
      "4:\tlearn: 0.5656923\ttotal: 167ms\tremaining: 16.5s\n",
      "5:\tlearn: 0.5523945\ttotal: 171ms\tremaining: 14.1s\n",
      "6:\tlearn: 0.5354243\ttotal: 176ms\tremaining: 12.4s\n",
      "7:\tlearn: 0.5222248\ttotal: 181ms\tremaining: 11.1s\n",
      "8:\tlearn: 0.5056975\ttotal: 185ms\tremaining: 10.1s\n",
      "9:\tlearn: 0.4875733\ttotal: 191ms\tremaining: 9.34s\n",
      "10:\tlearn: 0.4740603\ttotal: 195ms\tremaining: 8.66s\n",
      "11:\tlearn: 0.4640237\ttotal: 199ms\tremaining: 8.1s\n",
      "12:\tlearn: 0.4586725\ttotal: 204ms\tremaining: 7.64s\n",
      "13:\tlearn: 0.4496769\ttotal: 208ms\tremaining: 7.21s\n",
      "14:\tlearn: 0.4411986\ttotal: 211ms\tremaining: 6.84s\n",
      "15:\tlearn: 0.4283975\ttotal: 216ms\tremaining: 6.53s\n",
      "16:\tlearn: 0.4183311\ttotal: 220ms\tremaining: 6.24s\n",
      "17:\tlearn: 0.4099462\ttotal: 223ms\tremaining: 5.98s\n",
      "18:\tlearn: 0.4019909\ttotal: 227ms\tremaining: 5.74s\n",
      "19:\tlearn: 0.3940465\ttotal: 230ms\tremaining: 5.53s\n",
      "20:\tlearn: 0.3849134\ttotal: 234ms\tremaining: 5.35s\n",
      "21:\tlearn: 0.3736740\ttotal: 238ms\tremaining: 5.17s\n",
      "22:\tlearn: 0.3667699\ttotal: 242ms\tremaining: 5.01s\n",
      "23:\tlearn: 0.3592701\ttotal: 245ms\tremaining: 4.87s\n",
      "24:\tlearn: 0.3497790\ttotal: 249ms\tremaining: 4.73s\n",
      "25:\tlearn: 0.3401441\ttotal: 253ms\tremaining: 4.61s\n",
      "26:\tlearn: 0.3336438\ttotal: 257ms\tremaining: 4.5s\n",
      "27:\tlearn: 0.3271476\ttotal: 260ms\tremaining: 4.39s\n",
      "28:\tlearn: 0.3202375\ttotal: 264ms\tremaining: 4.29s\n",
      "29:\tlearn: 0.3127394\ttotal: 268ms\tremaining: 4.2s\n",
      "30:\tlearn: 0.3044509\ttotal: 272ms\tremaining: 4.11s\n",
      "31:\tlearn: 0.2931407\ttotal: 276ms\tremaining: 4.03s\n",
      "32:\tlearn: 0.2896444\ttotal: 279ms\tremaining: 3.95s\n",
      "33:\tlearn: 0.2858757\ttotal: 283ms\tremaining: 3.88s\n",
      "34:\tlearn: 0.2779045\ttotal: 286ms\tremaining: 3.8s\n",
      "35:\tlearn: 0.2755216\ttotal: 290ms\tremaining: 3.74s\n",
      "36:\tlearn: 0.2720898\ttotal: 294ms\tremaining: 3.68s\n",
      "37:\tlearn: 0.2663672\ttotal: 298ms\tremaining: 3.62s\n",
      "38:\tlearn: 0.2606678\ttotal: 301ms\tremaining: 3.56s\n",
      "39:\tlearn: 0.2544135\ttotal: 305ms\tremaining: 3.5s\n",
      "40:\tlearn: 0.2497070\ttotal: 309ms\tremaining: 3.46s\n",
      "41:\tlearn: 0.2452641\ttotal: 313ms\tremaining: 3.41s\n",
      "42:\tlearn: 0.2395723\ttotal: 316ms\tremaining: 3.36s\n",
      "43:\tlearn: 0.2353430\ttotal: 320ms\tremaining: 3.31s\n",
      "44:\tlearn: 0.2309137\ttotal: 324ms\tremaining: 3.27s\n",
      "45:\tlearn: 0.2279033\ttotal: 328ms\tremaining: 3.24s\n",
      "46:\tlearn: 0.2229870\ttotal: 332ms\tremaining: 3.2s\n",
      "47:\tlearn: 0.2194424\ttotal: 337ms\tremaining: 3.17s\n",
      "48:\tlearn: 0.2150555\ttotal: 341ms\tremaining: 3.13s\n",
      "49:\tlearn: 0.2126662\ttotal: 345ms\tremaining: 3.1s\n",
      "50:\tlearn: 0.2079791\ttotal: 349ms\tremaining: 3.07s\n",
      "51:\tlearn: 0.2037829\ttotal: 353ms\tremaining: 3.04s\n",
      "52:\tlearn: 0.1998423\ttotal: 356ms\tremaining: 3s\n",
      "53:\tlearn: 0.1948794\ttotal: 360ms\tremaining: 2.97s\n",
      "54:\tlearn: 0.1905436\ttotal: 365ms\tremaining: 2.95s\n",
      "55:\tlearn: 0.1862011\ttotal: 369ms\tremaining: 2.93s\n",
      "56:\tlearn: 0.1833402\ttotal: 374ms\tremaining: 2.91s\n",
      "57:\tlearn: 0.1792182\ttotal: 378ms\tremaining: 2.88s\n",
      "58:\tlearn: 0.1759960\ttotal: 382ms\tremaining: 2.85s\n",
      "59:\tlearn: 0.1734954\ttotal: 386ms\tremaining: 2.83s\n",
      "60:\tlearn: 0.1709095\ttotal: 390ms\tremaining: 2.8s\n",
      "61:\tlearn: 0.1683052\ttotal: 394ms\tremaining: 2.78s\n",
      "62:\tlearn: 0.1657704\ttotal: 398ms\tremaining: 2.76s\n",
      "63:\tlearn: 0.1619034\ttotal: 401ms\tremaining: 2.73s\n",
      "64:\tlearn: 0.1581417\ttotal: 405ms\tremaining: 2.71s\n",
      "65:\tlearn: 0.1553829\ttotal: 409ms\tremaining: 2.69s\n",
      "66:\tlearn: 0.1525080\ttotal: 413ms\tremaining: 2.67s\n",
      "67:\tlearn: 0.1499083\ttotal: 417ms\tremaining: 2.65s\n",
      "68:\tlearn: 0.1469576\ttotal: 421ms\tremaining: 2.63s\n",
      "69:\tlearn: 0.1441408\ttotal: 425ms\tremaining: 2.61s\n",
      "70:\tlearn: 0.1417850\ttotal: 429ms\tremaining: 2.59s\n",
      "71:\tlearn: 0.1386322\ttotal: 432ms\tremaining: 2.57s\n",
      "72:\tlearn: 0.1362100\ttotal: 436ms\tremaining: 2.55s\n",
      "73:\tlearn: 0.1339989\ttotal: 440ms\tremaining: 2.53s\n",
      "74:\tlearn: 0.1316461\ttotal: 443ms\tremaining: 2.51s\n",
      "75:\tlearn: 0.1289164\ttotal: 447ms\tremaining: 2.49s\n",
      "76:\tlearn: 0.1258126\ttotal: 451ms\tremaining: 2.48s\n",
      "77:\tlearn: 0.1242158\ttotal: 454ms\tremaining: 2.46s\n",
      "78:\tlearn: 0.1229509\ttotal: 458ms\tremaining: 2.44s\n",
      "79:\tlearn: 0.1207364\ttotal: 462ms\tremaining: 2.42s\n",
      "80:\tlearn: 0.1181766\ttotal: 466ms\tremaining: 2.41s\n",
      "81:\tlearn: 0.1159066\ttotal: 469ms\tremaining: 2.39s\n",
      "82:\tlearn: 0.1132878\ttotal: 474ms\tremaining: 2.38s\n",
      "83:\tlearn: 0.1102309\ttotal: 477ms\tremaining: 2.36s\n",
      "84:\tlearn: 0.1079987\ttotal: 481ms\tremaining: 2.35s\n",
      "85:\tlearn: 0.1053986\ttotal: 485ms\tremaining: 2.34s\n",
      "86:\tlearn: 0.1028354\ttotal: 489ms\tremaining: 2.32s\n",
      "87:\tlearn: 0.1007155\ttotal: 494ms\tremaining: 2.31s\n",
      "88:\tlearn: 0.0982867\ttotal: 498ms\tremaining: 2.3s\n",
      "89:\tlearn: 0.0958849\ttotal: 502ms\tremaining: 2.29s\n",
      "90:\tlearn: 0.0949892\ttotal: 506ms\tremaining: 2.27s\n",
      "91:\tlearn: 0.0927507\ttotal: 510ms\tremaining: 2.26s\n",
      "92:\tlearn: 0.0903621\ttotal: 514ms\tremaining: 2.25s\n",
      "93:\tlearn: 0.0880650\ttotal: 518ms\tremaining: 2.24s\n",
      "94:\tlearn: 0.0869990\ttotal: 522ms\tremaining: 2.23s\n",
      "95:\tlearn: 0.0852722\ttotal: 526ms\tremaining: 2.21s\n",
      "96:\tlearn: 0.0835101\ttotal: 530ms\tremaining: 2.2s\n",
      "97:\tlearn: 0.0821475\ttotal: 534ms\tremaining: 2.19s\n",
      "98:\tlearn: 0.0802353\ttotal: 537ms\tremaining: 2.17s\n",
      "99:\tlearn: 0.0780377\ttotal: 541ms\tremaining: 2.16s\n",
      "100:\tlearn: 0.0761215\ttotal: 544ms\tremaining: 2.15s\n",
      "101:\tlearn: 0.0742253\ttotal: 548ms\tremaining: 2.14s\n",
      "102:\tlearn: 0.0729715\ttotal: 552ms\tremaining: 2.13s\n",
      "103:\tlearn: 0.0707604\ttotal: 556ms\tremaining: 2.12s\n",
      "104:\tlearn: 0.0693286\ttotal: 560ms\tremaining: 2.11s\n",
      "105:\tlearn: 0.0677167\ttotal: 564ms\tremaining: 2.1s\n",
      "106:\tlearn: 0.0664156\ttotal: 569ms\tremaining: 2.09s\n",
      "107:\tlearn: 0.0646576\ttotal: 573ms\tremaining: 2.08s\n",
      "108:\tlearn: 0.0632124\ttotal: 577ms\tremaining: 2.07s\n",
      "109:\tlearn: 0.0616289\ttotal: 581ms\tremaining: 2.06s\n",
      "110:\tlearn: 0.0603931\ttotal: 585ms\tremaining: 2.05s\n",
      "111:\tlearn: 0.0586372\ttotal: 589ms\tremaining: 2.04s\n",
      "112:\tlearn: 0.0573684\ttotal: 593ms\tremaining: 2.03s\n",
      "113:\tlearn: 0.0559506\ttotal: 596ms\tremaining: 2.02s\n",
      "114:\tlearn: 0.0546327\ttotal: 601ms\tremaining: 2.01s\n",
      "115:\tlearn: 0.0533832\ttotal: 604ms\tremaining: 2s\n",
      "116:\tlearn: 0.0520322\ttotal: 608ms\tremaining: 1.99s\n",
      "117:\tlearn: 0.0504972\ttotal: 612ms\tremaining: 1.98s\n",
      "118:\tlearn: 0.0495345\ttotal: 615ms\tremaining: 1.97s\n",
      "119:\tlearn: 0.0483577\ttotal: 619ms\tremaining: 1.96s\n",
      "120:\tlearn: 0.0476667\ttotal: 623ms\tremaining: 1.95s\n",
      "121:\tlearn: 0.0466569\ttotal: 627ms\tremaining: 1.94s\n",
      "122:\tlearn: 0.0458227\ttotal: 630ms\tremaining: 1.93s\n",
      "123:\tlearn: 0.0448980\ttotal: 634ms\tremaining: 1.92s\n",
      "124:\tlearn: 0.0443163\ttotal: 638ms\tremaining: 1.91s\n",
      "125:\tlearn: 0.0432382\ttotal: 642ms\tremaining: 1.91s\n",
      "126:\tlearn: 0.0424040\ttotal: 646ms\tremaining: 1.9s\n",
      "127:\tlearn: 0.0418845\ttotal: 649ms\tremaining: 1.89s\n",
      "128:\tlearn: 0.0411654\ttotal: 653ms\tremaining: 1.88s\n",
      "129:\tlearn: 0.0403012\ttotal: 657ms\tremaining: 1.87s\n",
      "130:\tlearn: 0.0396226\ttotal: 661ms\tremaining: 1.86s\n",
      "131:\tlearn: 0.0388717\ttotal: 665ms\tremaining: 1.85s\n",
      "132:\tlearn: 0.0380211\ttotal: 670ms\tremaining: 1.85s\n",
      "133:\tlearn: 0.0373380\ttotal: 674ms\tremaining: 1.84s\n",
      "134:\tlearn: 0.0369487\ttotal: 678ms\tremaining: 1.83s\n",
      "135:\tlearn: 0.0364545\ttotal: 682ms\tremaining: 1.83s\n",
      "136:\tlearn: 0.0359552\ttotal: 687ms\tremaining: 1.82s\n",
      "137:\tlearn: 0.0352038\ttotal: 690ms\tremaining: 1.81s\n",
      "138:\tlearn: 0.0348345\ttotal: 694ms\tremaining: 1.8s\n",
      "139:\tlearn: 0.0347470\ttotal: 698ms\tremaining: 1.8s\n",
      "140:\tlearn: 0.0339150\ttotal: 702ms\tremaining: 1.79s\n",
      "141:\tlearn: 0.0334364\ttotal: 706ms\tremaining: 1.78s\n",
      "142:\tlearn: 0.0325154\ttotal: 712ms\tremaining: 1.78s\n",
      "143:\tlearn: 0.0319147\ttotal: 716ms\tremaining: 1.77s\n",
      "144:\tlearn: 0.0311324\ttotal: 720ms\tremaining: 1.76s\n",
      "145:\tlearn: 0.0305418\ttotal: 724ms\tremaining: 1.75s\n",
      "146:\tlearn: 0.0297719\ttotal: 729ms\tremaining: 1.75s\n",
      "147:\tlearn: 0.0293804\ttotal: 733ms\tremaining: 1.74s\n",
      "148:\tlearn: 0.0289239\ttotal: 736ms\tremaining: 1.73s\n",
      "149:\tlearn: 0.0285177\ttotal: 740ms\tremaining: 1.73s\n",
      "150:\tlearn: 0.0280596\ttotal: 744ms\tremaining: 1.72s\n",
      "151:\tlearn: 0.0277743\ttotal: 748ms\tremaining: 1.71s\n",
      "152:\tlearn: 0.0271762\ttotal: 752ms\tremaining: 1.71s\n",
      "153:\tlearn: 0.0266007\ttotal: 756ms\tremaining: 1.7s\n",
      "154:\tlearn: 0.0262536\ttotal: 760ms\tremaining: 1.69s\n",
      "155:\tlearn: 0.0257129\ttotal: 764ms\tremaining: 1.68s\n",
      "156:\tlearn: 0.0252781\ttotal: 768ms\tremaining: 1.68s\n",
      "157:\tlearn: 0.0247744\ttotal: 772ms\tremaining: 1.67s\n",
      "158:\tlearn: 0.0243973\ttotal: 776ms\tremaining: 1.66s\n",
      "159:\tlearn: 0.0239652\ttotal: 781ms\tremaining: 1.66s\n",
      "160:\tlearn: 0.0235484\ttotal: 786ms\tremaining: 1.65s\n",
      "161:\tlearn: 0.0229917\ttotal: 790ms\tremaining: 1.65s\n",
      "162:\tlearn: 0.0226787\ttotal: 794ms\tremaining: 1.64s\n",
      "163:\tlearn: 0.0223182\ttotal: 798ms\tremaining: 1.63s\n",
      "164:\tlearn: 0.0219046\ttotal: 801ms\tremaining: 1.63s\n",
      "165:\tlearn: 0.0215844\ttotal: 806ms\tremaining: 1.62s\n",
      "166:\tlearn: 0.0213759\ttotal: 809ms\tremaining: 1.61s\n",
      "167:\tlearn: 0.0211000\ttotal: 813ms\tremaining: 1.61s\n",
      "168:\tlearn: 0.0208118\ttotal: 817ms\tremaining: 1.6s\n",
      "169:\tlearn: 0.0204714\ttotal: 821ms\tremaining: 1.59s\n",
      "170:\tlearn: 0.0201605\ttotal: 825ms\tremaining: 1.59s\n",
      "171:\tlearn: 0.0198780\ttotal: 829ms\tremaining: 1.58s\n",
      "172:\tlearn: 0.0196048\ttotal: 833ms\tremaining: 1.57s\n",
      "173:\tlearn: 0.0192786\ttotal: 837ms\tremaining: 1.57s\n"
     ]
    },
    {
     "name": "stdout",
     "output_type": "stream",
     "text": [
      "174:\tlearn: 0.0189849\ttotal: 841ms\tremaining: 1.56s\n",
      "175:\tlearn: 0.0187253\ttotal: 846ms\tremaining: 1.56s\n",
      "176:\tlearn: 0.0184276\ttotal: 850ms\tremaining: 1.55s\n",
      "177:\tlearn: 0.0183232\ttotal: 855ms\tremaining: 1.55s\n",
      "178:\tlearn: 0.0179853\ttotal: 859ms\tremaining: 1.54s\n",
      "179:\tlearn: 0.0177313\ttotal: 864ms\tremaining: 1.53s\n",
      "180:\tlearn: 0.0173637\ttotal: 869ms\tremaining: 1.53s\n",
      "181:\tlearn: 0.0170016\ttotal: 874ms\tremaining: 1.53s\n",
      "182:\tlearn: 0.0168523\ttotal: 877ms\tremaining: 1.52s\n",
      "183:\tlearn: 0.0165438\ttotal: 882ms\tremaining: 1.51s\n",
      "184:\tlearn: 0.0162850\ttotal: 885ms\tremaining: 1.51s\n",
      "185:\tlearn: 0.0161417\ttotal: 889ms\tremaining: 1.5s\n",
      "186:\tlearn: 0.0159968\ttotal: 893ms\tremaining: 1.49s\n",
      "187:\tlearn: 0.0157384\ttotal: 897ms\tremaining: 1.49s\n",
      "188:\tlearn: 0.0156164\ttotal: 901ms\tremaining: 1.48s\n",
      "189:\tlearn: 0.0153930\ttotal: 905ms\tremaining: 1.48s\n",
      "190:\tlearn: 0.0152197\ttotal: 909ms\tremaining: 1.47s\n",
      "191:\tlearn: 0.0150422\ttotal: 913ms\tremaining: 1.46s\n",
      "192:\tlearn: 0.0147934\ttotal: 917ms\tremaining: 1.46s\n",
      "193:\tlearn: 0.0145653\ttotal: 920ms\tremaining: 1.45s\n",
      "194:\tlearn: 0.0143389\ttotal: 924ms\tremaining: 1.45s\n",
      "195:\tlearn: 0.0141949\ttotal: 928ms\tremaining: 1.44s\n",
      "196:\tlearn: 0.0140322\ttotal: 932ms\tremaining: 1.43s\n",
      "197:\tlearn: 0.0139487\ttotal: 936ms\tremaining: 1.43s\n",
      "198:\tlearn: 0.0137639\ttotal: 939ms\tremaining: 1.42s\n",
      "199:\tlearn: 0.0136207\ttotal: 943ms\tremaining: 1.42s\n",
      "200:\tlearn: 0.0134676\ttotal: 948ms\tremaining: 1.41s\n",
      "201:\tlearn: 0.0132569\ttotal: 951ms\tremaining: 1.4s\n",
      "202:\tlearn: 0.0130339\ttotal: 956ms\tremaining: 1.4s\n",
      "203:\tlearn: 0.0128998\ttotal: 959ms\tremaining: 1.39s\n",
      "204:\tlearn: 0.0127913\ttotal: 964ms\tremaining: 1.39s\n",
      "205:\tlearn: 0.0126477\ttotal: 968ms\tremaining: 1.38s\n",
      "206:\tlearn: 0.0124992\ttotal: 972ms\tremaining: 1.38s\n",
      "207:\tlearn: 0.0123925\ttotal: 976ms\tremaining: 1.37s\n",
      "208:\tlearn: 0.0122495\ttotal: 980ms\tremaining: 1.36s\n",
      "209:\tlearn: 0.0120473\ttotal: 984ms\tremaining: 1.36s\n",
      "210:\tlearn: 0.0118774\ttotal: 988ms\tremaining: 1.35s\n",
      "211:\tlearn: 0.0117415\ttotal: 992ms\tremaining: 1.35s\n",
      "212:\tlearn: 0.0116191\ttotal: 995ms\tremaining: 1.34s\n",
      "213:\tlearn: 0.0115118\ttotal: 999ms\tremaining: 1.33s\n",
      "214:\tlearn: 0.0114133\ttotal: 1s\tremaining: 1.33s\n",
      "215:\tlearn: 0.0113091\ttotal: 1.01s\tremaining: 1.32s\n",
      "216:\tlearn: 0.0111873\ttotal: 1.01s\tremaining: 1.32s\n",
      "217:\tlearn: 0.0111071\ttotal: 1.01s\tremaining: 1.31s\n",
      "218:\tlearn: 0.0109814\ttotal: 1.02s\tremaining: 1.31s\n",
      "219:\tlearn: 0.0108644\ttotal: 1.02s\tremaining: 1.3s\n",
      "220:\tlearn: 0.0107261\ttotal: 1.03s\tremaining: 1.3s\n",
      "221:\tlearn: 0.0106272\ttotal: 1.03s\tremaining: 1.29s\n",
      "222:\tlearn: 0.0105303\ttotal: 1.04s\tremaining: 1.29s\n",
      "223:\tlearn: 0.0104451\ttotal: 1.04s\tremaining: 1.28s\n",
      "224:\tlearn: 0.0103714\ttotal: 1.04s\tremaining: 1.27s\n",
      "225:\tlearn: 0.0102657\ttotal: 1.05s\tremaining: 1.27s\n",
      "226:\tlearn: 0.0101776\ttotal: 1.05s\tremaining: 1.27s\n",
      "227:\tlearn: 0.0100396\ttotal: 1.06s\tremaining: 1.26s\n",
      "228:\tlearn: 0.0099650\ttotal: 1.06s\tremaining: 1.25s\n",
      "229:\tlearn: 0.0098066\ttotal: 1.06s\tremaining: 1.25s\n",
      "230:\tlearn: 0.0096882\ttotal: 1.07s\tremaining: 1.24s\n",
      "231:\tlearn: 0.0095884\ttotal: 1.07s\tremaining: 1.24s\n",
      "232:\tlearn: 0.0095217\ttotal: 1.07s\tremaining: 1.23s\n",
      "233:\tlearn: 0.0094640\ttotal: 1.08s\tremaining: 1.23s\n",
      "234:\tlearn: 0.0093992\ttotal: 1.08s\tremaining: 1.22s\n",
      "235:\tlearn: 0.0093898\ttotal: 1.09s\tremaining: 1.22s\n",
      "236:\tlearn: 0.0092766\ttotal: 1.09s\tremaining: 1.21s\n",
      "237:\tlearn: 0.0091823\ttotal: 1.09s\tremaining: 1.21s\n",
      "238:\tlearn: 0.0091228\ttotal: 1.1s\tremaining: 1.2s\n",
      "239:\tlearn: 0.0090144\ttotal: 1.1s\tremaining: 1.19s\n",
      "240:\tlearn: 0.0089234\ttotal: 1.11s\tremaining: 1.19s\n",
      "241:\tlearn: 0.0088513\ttotal: 1.11s\tremaining: 1.18s\n",
      "242:\tlearn: 0.0087625\ttotal: 1.11s\tremaining: 1.18s\n",
      "243:\tlearn: 0.0086913\ttotal: 1.12s\tremaining: 1.17s\n",
      "244:\tlearn: 0.0086302\ttotal: 1.12s\tremaining: 1.17s\n",
      "245:\tlearn: 0.0085135\ttotal: 1.13s\tremaining: 1.16s\n",
      "246:\tlearn: 0.0084465\ttotal: 1.13s\tremaining: 1.16s\n",
      "247:\tlearn: 0.0084009\ttotal: 1.13s\tremaining: 1.15s\n",
      "248:\tlearn: 0.0083337\ttotal: 1.14s\tremaining: 1.15s\n",
      "249:\tlearn: 0.0082776\ttotal: 1.14s\tremaining: 1.14s\n",
      "250:\tlearn: 0.0081944\ttotal: 1.14s\tremaining: 1.14s\n",
      "251:\tlearn: 0.0081031\ttotal: 1.15s\tremaining: 1.13s\n",
      "252:\tlearn: 0.0080223\ttotal: 1.15s\tremaining: 1.12s\n",
      "253:\tlearn: 0.0079396\ttotal: 1.16s\tremaining: 1.12s\n",
      "254:\tlearn: 0.0078458\ttotal: 1.16s\tremaining: 1.11s\n",
      "255:\tlearn: 0.0077369\ttotal: 1.16s\tremaining: 1.11s\n",
      "256:\tlearn: 0.0076655\ttotal: 1.17s\tremaining: 1.1s\n",
      "257:\tlearn: 0.0075775\ttotal: 1.17s\tremaining: 1.1s\n",
      "258:\tlearn: 0.0075225\ttotal: 1.17s\tremaining: 1.09s\n",
      "259:\tlearn: 0.0074391\ttotal: 1.18s\tremaining: 1.09s\n",
      "260:\tlearn: 0.0073815\ttotal: 1.18s\tremaining: 1.08s\n",
      "261:\tlearn: 0.0072718\ttotal: 1.19s\tremaining: 1.08s\n",
      "262:\tlearn: 0.0072253\ttotal: 1.19s\tremaining: 1.07s\n",
      "263:\tlearn: 0.0071430\ttotal: 1.19s\tremaining: 1.07s\n",
      "264:\tlearn: 0.0070508\ttotal: 1.2s\tremaining: 1.06s\n",
      "265:\tlearn: 0.0069928\ttotal: 1.2s\tremaining: 1.06s\n",
      "266:\tlearn: 0.0069515\ttotal: 1.21s\tremaining: 1.05s\n",
      "267:\tlearn: 0.0069225\ttotal: 1.21s\tremaining: 1.05s\n",
      "268:\tlearn: 0.0068786\ttotal: 1.21s\tremaining: 1.04s\n",
      "269:\tlearn: 0.0067836\ttotal: 1.22s\tremaining: 1.04s\n",
      "270:\tlearn: 0.0067214\ttotal: 1.22s\tremaining: 1.03s\n",
      "271:\tlearn: 0.0066477\ttotal: 1.23s\tremaining: 1.03s\n",
      "272:\tlearn: 0.0065877\ttotal: 1.23s\tremaining: 1.02s\n",
      "273:\tlearn: 0.0065376\ttotal: 1.23s\tremaining: 1.02s\n",
      "274:\tlearn: 0.0064752\ttotal: 1.24s\tremaining: 1.01s\n",
      "275:\tlearn: 0.0064379\ttotal: 1.24s\tremaining: 1.01s\n",
      "276:\tlearn: 0.0064225\ttotal: 1.25s\tremaining: 1s\n",
      "277:\tlearn: 0.0064017\ttotal: 1.25s\tremaining: 999ms\n",
      "278:\tlearn: 0.0063688\ttotal: 1.25s\tremaining: 994ms\n",
      "279:\tlearn: 0.0063181\ttotal: 1.26s\tremaining: 989ms\n",
      "280:\tlearn: 0.0062605\ttotal: 1.26s\tremaining: 984ms\n",
      "281:\tlearn: 0.0062416\ttotal: 1.27s\tremaining: 979ms\n",
      "282:\tlearn: 0.0061842\ttotal: 1.27s\tremaining: 974ms\n",
      "283:\tlearn: 0.0061547\ttotal: 1.27s\tremaining: 970ms\n",
      "284:\tlearn: 0.0060960\ttotal: 1.28s\tremaining: 965ms\n",
      "285:\tlearn: 0.0060704\ttotal: 1.28s\tremaining: 961ms\n",
      "286:\tlearn: 0.0060352\ttotal: 1.29s\tremaining: 955ms\n",
      "287:\tlearn: 0.0059517\ttotal: 1.29s\tremaining: 950ms\n",
      "288:\tlearn: 0.0058904\ttotal: 1.29s\tremaining: 945ms\n",
      "289:\tlearn: 0.0058336\ttotal: 1.3s\tremaining: 941ms\n",
      "290:\tlearn: 0.0058005\ttotal: 1.3s\tremaining: 936ms\n",
      "291:\tlearn: 0.0057630\ttotal: 1.31s\tremaining: 931ms\n",
      "292:\tlearn: 0.0057356\ttotal: 1.31s\tremaining: 926ms\n",
      "293:\tlearn: 0.0056955\ttotal: 1.31s\tremaining: 921ms\n",
      "294:\tlearn: 0.0056456\ttotal: 1.32s\tremaining: 916ms\n",
      "295:\tlearn: 0.0056145\ttotal: 1.32s\tremaining: 911ms\n",
      "296:\tlearn: 0.0055755\ttotal: 1.33s\tremaining: 906ms\n",
      "297:\tlearn: 0.0055605\ttotal: 1.33s\tremaining: 902ms\n",
      "298:\tlearn: 0.0054914\ttotal: 1.33s\tremaining: 896ms\n",
      "299:\tlearn: 0.0054526\ttotal: 1.34s\tremaining: 891ms\n",
      "300:\tlearn: 0.0054350\ttotal: 1.34s\tremaining: 887ms\n",
      "301:\tlearn: 0.0054020\ttotal: 1.34s\tremaining: 882ms\n",
      "302:\tlearn: 0.0053608\ttotal: 1.35s\tremaining: 877ms\n",
      "303:\tlearn: 0.0053096\ttotal: 1.35s\tremaining: 872ms\n",
      "304:\tlearn: 0.0052786\ttotal: 1.36s\tremaining: 867ms\n",
      "305:\tlearn: 0.0052307\ttotal: 1.36s\tremaining: 863ms\n",
      "306:\tlearn: 0.0051855\ttotal: 1.36s\tremaining: 858ms\n",
      "307:\tlearn: 0.0051590\ttotal: 1.37s\tremaining: 853ms\n",
      "308:\tlearn: 0.0051023\ttotal: 1.37s\tremaining: 848ms\n",
      "309:\tlearn: 0.0050460\ttotal: 1.38s\tremaining: 844ms\n",
      "310:\tlearn: 0.0050180\ttotal: 1.38s\tremaining: 839ms\n",
      "311:\tlearn: 0.0049665\ttotal: 1.39s\tremaining: 835ms\n",
      "312:\tlearn: 0.0049332\ttotal: 1.39s\tremaining: 830ms\n",
      "313:\tlearn: 0.0048992\ttotal: 1.39s\tremaining: 825ms\n",
      "314:\tlearn: 0.0048537\ttotal: 1.4s\tremaining: 820ms\n",
      "315:\tlearn: 0.0048107\ttotal: 1.4s\tremaining: 816ms\n",
      "316:\tlearn: 0.0047785\ttotal: 1.4s\tremaining: 811ms\n",
      "317:\tlearn: 0.0047433\ttotal: 1.41s\tremaining: 806ms\n",
      "318:\tlearn: 0.0047079\ttotal: 1.41s\tremaining: 801ms\n",
      "319:\tlearn: 0.0046930\ttotal: 1.42s\tremaining: 796ms\n",
      "320:\tlearn: 0.0046669\ttotal: 1.42s\tremaining: 791ms\n",
      "321:\tlearn: 0.0046279\ttotal: 1.42s\tremaining: 787ms\n",
      "322:\tlearn: 0.0046091\ttotal: 1.43s\tremaining: 782ms\n",
      "323:\tlearn: 0.0045815\ttotal: 1.43s\tremaining: 777ms\n",
      "324:\tlearn: 0.0045483\ttotal: 1.43s\tremaining: 772ms\n",
      "325:\tlearn: 0.0045248\ttotal: 1.44s\tremaining: 767ms\n",
      "326:\tlearn: 0.0045018\ttotal: 1.44s\tremaining: 763ms\n",
      "327:\tlearn: 0.0044678\ttotal: 1.45s\tremaining: 758ms\n",
      "328:\tlearn: 0.0044519\ttotal: 1.45s\tremaining: 753ms\n",
      "329:\tlearn: 0.0044236\ttotal: 1.45s\tremaining: 749ms\n",
      "330:\tlearn: 0.0043904\ttotal: 1.46s\tremaining: 744ms\n",
      "331:\tlearn: 0.0043481\ttotal: 1.46s\tremaining: 739ms\n",
      "332:\tlearn: 0.0043277\ttotal: 1.47s\tremaining: 735ms\n",
      "333:\tlearn: 0.0042927\ttotal: 1.47s\tremaining: 730ms\n",
      "334:\tlearn: 0.0042736\ttotal: 1.47s\tremaining: 725ms\n",
      "335:\tlearn: 0.0042535\ttotal: 1.48s\tremaining: 721ms\n",
      "336:\tlearn: 0.0042216\ttotal: 1.48s\tremaining: 716ms\n",
      "337:\tlearn: 0.0041827\ttotal: 1.48s\tremaining: 712ms\n",
      "338:\tlearn: 0.0041548\ttotal: 1.49s\tremaining: 707ms\n",
      "339:\tlearn: 0.0041405\ttotal: 1.49s\tremaining: 702ms\n",
      "340:\tlearn: 0.0041139\ttotal: 1.5s\tremaining: 698ms\n",
      "341:\tlearn: 0.0040845\ttotal: 1.5s\tremaining: 693ms\n",
      "342:\tlearn: 0.0040570\ttotal: 1.5s\tremaining: 688ms\n",
      "343:\tlearn: 0.0040395\ttotal: 1.51s\tremaining: 683ms\n",
      "344:\tlearn: 0.0040043\ttotal: 1.51s\tremaining: 679ms\n",
      "345:\tlearn: 0.0039754\ttotal: 1.51s\tremaining: 674ms\n",
      "346:\tlearn: 0.0039607\ttotal: 1.52s\tremaining: 670ms\n",
      "347:\tlearn: 0.0039398\ttotal: 1.52s\tremaining: 665ms\n",
      "348:\tlearn: 0.0039249\ttotal: 1.53s\tremaining: 660ms\n",
      "349:\tlearn: 0.0039026\ttotal: 1.53s\tremaining: 656ms\n"
     ]
    },
    {
     "name": "stdout",
     "output_type": "stream",
     "text": [
      "350:\tlearn: 0.0038768\ttotal: 1.53s\tremaining: 652ms\n",
      "351:\tlearn: 0.0038548\ttotal: 1.54s\tremaining: 647ms\n",
      "352:\tlearn: 0.0038310\ttotal: 1.54s\tremaining: 643ms\n",
      "353:\tlearn: 0.0038128\ttotal: 1.55s\tremaining: 638ms\n",
      "354:\tlearn: 0.0037915\ttotal: 1.55s\tremaining: 634ms\n",
      "355:\tlearn: 0.0037793\ttotal: 1.55s\tremaining: 629ms\n",
      "356:\tlearn: 0.0037687\ttotal: 1.56s\tremaining: 624ms\n",
      "357:\tlearn: 0.0037533\ttotal: 1.56s\tremaining: 620ms\n",
      "358:\tlearn: 0.0037351\ttotal: 1.57s\tremaining: 615ms\n",
      "359:\tlearn: 0.0037128\ttotal: 1.57s\tremaining: 611ms\n",
      "360:\tlearn: 0.0036873\ttotal: 1.57s\tremaining: 607ms\n",
      "361:\tlearn: 0.0036598\ttotal: 1.58s\tremaining: 602ms\n",
      "362:\tlearn: 0.0036372\ttotal: 1.58s\tremaining: 598ms\n",
      "363:\tlearn: 0.0036193\ttotal: 1.59s\tremaining: 593ms\n",
      "364:\tlearn: 0.0035873\ttotal: 1.59s\tremaining: 588ms\n",
      "365:\tlearn: 0.0035751\ttotal: 1.59s\tremaining: 584ms\n",
      "366:\tlearn: 0.0035501\ttotal: 1.6s\tremaining: 579ms\n",
      "367:\tlearn: 0.0035301\ttotal: 1.6s\tremaining: 575ms\n",
      "368:\tlearn: 0.0035071\ttotal: 1.61s\tremaining: 570ms\n",
      "369:\tlearn: 0.0035045\ttotal: 1.61s\tremaining: 566ms\n",
      "370:\tlearn: 0.0034942\ttotal: 1.61s\tremaining: 561ms\n",
      "371:\tlearn: 0.0034739\ttotal: 1.62s\tremaining: 557ms\n",
      "372:\tlearn: 0.0034572\ttotal: 1.62s\tremaining: 552ms\n",
      "373:\tlearn: 0.0034498\ttotal: 1.63s\tremaining: 547ms\n",
      "374:\tlearn: 0.0034425\ttotal: 1.63s\tremaining: 543ms\n",
      "375:\tlearn: 0.0034330\ttotal: 1.63s\tremaining: 539ms\n",
      "376:\tlearn: 0.0034151\ttotal: 1.64s\tremaining: 534ms\n",
      "377:\tlearn: 0.0034081\ttotal: 1.64s\tremaining: 529ms\n",
      "378:\tlearn: 0.0033840\ttotal: 1.64s\tremaining: 525ms\n",
      "379:\tlearn: 0.0033723\ttotal: 1.65s\tremaining: 520ms\n",
      "380:\tlearn: 0.0033627\ttotal: 1.65s\tremaining: 516ms\n",
      "381:\tlearn: 0.0033517\ttotal: 1.66s\tremaining: 511ms\n",
      "382:\tlearn: 0.0033324\ttotal: 1.66s\tremaining: 507ms\n",
      "383:\tlearn: 0.0033130\ttotal: 1.66s\tremaining: 502ms\n",
      "384:\tlearn: 0.0033048\ttotal: 1.67s\tremaining: 498ms\n",
      "385:\tlearn: 0.0032933\ttotal: 1.67s\tremaining: 493ms\n",
      "386:\tlearn: 0.0032716\ttotal: 1.67s\tremaining: 489ms\n",
      "387:\tlearn: 0.0032456\ttotal: 1.68s\tremaining: 484ms\n",
      "388:\tlearn: 0.0032257\ttotal: 1.68s\tremaining: 480ms\n",
      "389:\tlearn: 0.0032124\ttotal: 1.68s\tremaining: 475ms\n",
      "390:\tlearn: 0.0031966\ttotal: 1.69s\tremaining: 471ms\n",
      "391:\tlearn: 0.0031737\ttotal: 1.69s\tremaining: 466ms\n",
      "392:\tlearn: 0.0031607\ttotal: 1.7s\tremaining: 462ms\n",
      "393:\tlearn: 0.0031397\ttotal: 1.7s\tremaining: 457ms\n",
      "394:\tlearn: 0.0031221\ttotal: 1.7s\tremaining: 453ms\n",
      "395:\tlearn: 0.0031147\ttotal: 1.71s\tremaining: 448ms\n",
      "396:\tlearn: 0.0030981\ttotal: 1.71s\tremaining: 444ms\n",
      "397:\tlearn: 0.0030937\ttotal: 1.71s\tremaining: 439ms\n",
      "398:\tlearn: 0.0030914\ttotal: 1.72s\tremaining: 435ms\n",
      "399:\tlearn: 0.0030797\ttotal: 1.72s\tremaining: 431ms\n",
      "400:\tlearn: 0.0030705\ttotal: 1.73s\tremaining: 426ms\n",
      "401:\tlearn: 0.0030492\ttotal: 1.73s\tremaining: 422ms\n",
      "402:\tlearn: 0.0030373\ttotal: 1.74s\tremaining: 418ms\n",
      "403:\tlearn: 0.0030187\ttotal: 1.74s\tremaining: 413ms\n",
      "404:\tlearn: 0.0030031\ttotal: 1.74s\tremaining: 409ms\n",
      "405:\tlearn: 0.0029899\ttotal: 1.75s\tremaining: 405ms\n",
      "406:\tlearn: 0.0029812\ttotal: 1.75s\tremaining: 400ms\n",
      "407:\tlearn: 0.0029716\ttotal: 1.75s\tremaining: 396ms\n",
      "408:\tlearn: 0.0029632\ttotal: 1.76s\tremaining: 392ms\n",
      "409:\tlearn: 0.0029589\ttotal: 1.76s\tremaining: 387ms\n",
      "410:\tlearn: 0.0029449\ttotal: 1.77s\tremaining: 383ms\n",
      "411:\tlearn: 0.0029203\ttotal: 1.77s\tremaining: 378ms\n",
      "412:\tlearn: 0.0029167\ttotal: 1.77s\tremaining: 374ms\n",
      "413:\tlearn: 0.0029025\ttotal: 1.78s\tremaining: 370ms\n",
      "414:\tlearn: 0.0028880\ttotal: 1.78s\tremaining: 365ms\n",
      "415:\tlearn: 0.0028709\ttotal: 1.79s\tremaining: 361ms\n",
      "416:\tlearn: 0.0028592\ttotal: 1.79s\tremaining: 356ms\n",
      "417:\tlearn: 0.0028541\ttotal: 1.79s\tremaining: 352ms\n",
      "418:\tlearn: 0.0028464\ttotal: 1.8s\tremaining: 348ms\n",
      "419:\tlearn: 0.0028286\ttotal: 1.8s\tremaining: 343ms\n",
      "420:\tlearn: 0.0028134\ttotal: 1.8s\tremaining: 339ms\n",
      "421:\tlearn: 0.0028049\ttotal: 1.81s\tremaining: 334ms\n",
      "422:\tlearn: 0.0027990\ttotal: 1.81s\tremaining: 330ms\n",
      "423:\tlearn: 0.0027884\ttotal: 1.81s\tremaining: 325ms\n",
      "424:\tlearn: 0.0027765\ttotal: 1.82s\tremaining: 321ms\n",
      "425:\tlearn: 0.0027570\ttotal: 1.82s\tremaining: 317ms\n",
      "426:\tlearn: 0.0027406\ttotal: 1.83s\tremaining: 312ms\n",
      "427:\tlearn: 0.0027356\ttotal: 1.83s\tremaining: 308ms\n",
      "428:\tlearn: 0.0027265\ttotal: 1.83s\tremaining: 303ms\n",
      "429:\tlearn: 0.0027207\ttotal: 1.84s\tremaining: 299ms\n",
      "430:\tlearn: 0.0027024\ttotal: 1.84s\tremaining: 295ms\n",
      "431:\tlearn: 0.0026946\ttotal: 1.84s\tremaining: 290ms\n",
      "432:\tlearn: 0.0026867\ttotal: 1.85s\tremaining: 286ms\n",
      "433:\tlearn: 0.0026747\ttotal: 1.85s\tremaining: 282ms\n",
      "434:\tlearn: 0.0026716\ttotal: 1.85s\tremaining: 277ms\n",
      "435:\tlearn: 0.0026686\ttotal: 1.86s\tremaining: 273ms\n",
      "436:\tlearn: 0.0026484\ttotal: 1.86s\tremaining: 269ms\n",
      "437:\tlearn: 0.0026407\ttotal: 1.87s\tremaining: 264ms\n",
      "438:\tlearn: 0.0026371\ttotal: 1.87s\tremaining: 260ms\n",
      "439:\tlearn: 0.0026277\ttotal: 1.87s\tremaining: 255ms\n",
      "440:\tlearn: 0.0026109\ttotal: 1.88s\tremaining: 251ms\n",
      "441:\tlearn: 0.0026083\ttotal: 1.88s\tremaining: 247ms\n",
      "442:\tlearn: 0.0025929\ttotal: 1.89s\tremaining: 243ms\n",
      "443:\tlearn: 0.0025878\ttotal: 1.89s\tremaining: 238ms\n",
      "444:\tlearn: 0.0025700\ttotal: 1.9s\tremaining: 234ms\n",
      "445:\tlearn: 0.0025654\ttotal: 1.9s\tremaining: 230ms\n",
      "446:\tlearn: 0.0025545\ttotal: 1.9s\tremaining: 226ms\n",
      "447:\tlearn: 0.0025471\ttotal: 1.91s\tremaining: 221ms\n",
      "448:\tlearn: 0.0025362\ttotal: 1.91s\tremaining: 217ms\n",
      "449:\tlearn: 0.0025218\ttotal: 1.92s\tremaining: 213ms\n",
      "450:\tlearn: 0.0025113\ttotal: 1.92s\tremaining: 209ms\n",
      "451:\tlearn: 0.0024950\ttotal: 1.92s\tremaining: 204ms\n",
      "452:\tlearn: 0.0024882\ttotal: 1.93s\tremaining: 200ms\n",
      "453:\tlearn: 0.0024825\ttotal: 1.93s\tremaining: 196ms\n",
      "454:\tlearn: 0.0024735\ttotal: 1.94s\tremaining: 191ms\n",
      "455:\tlearn: 0.0024609\ttotal: 1.94s\tremaining: 187ms\n",
      "456:\tlearn: 0.0024534\ttotal: 1.94s\tremaining: 183ms\n",
      "457:\tlearn: 0.0024429\ttotal: 1.95s\tremaining: 179ms\n",
      "458:\tlearn: 0.0024319\ttotal: 1.95s\tremaining: 174ms\n",
      "459:\tlearn: 0.0024210\ttotal: 1.96s\tremaining: 170ms\n",
      "460:\tlearn: 0.0024128\ttotal: 1.96s\tremaining: 166ms\n",
      "461:\tlearn: 0.0023996\ttotal: 1.96s\tremaining: 161ms\n",
      "462:\tlearn: 0.0023912\ttotal: 1.97s\tremaining: 157ms\n",
      "463:\tlearn: 0.0023820\ttotal: 1.97s\tremaining: 153ms\n",
      "464:\tlearn: 0.0023695\ttotal: 1.97s\tremaining: 149ms\n",
      "465:\tlearn: 0.0023542\ttotal: 1.98s\tremaining: 144ms\n",
      "466:\tlearn: 0.0023447\ttotal: 1.98s\tremaining: 140ms\n",
      "467:\tlearn: 0.0023341\ttotal: 1.99s\tremaining: 136ms\n",
      "468:\tlearn: 0.0023249\ttotal: 1.99s\tremaining: 132ms\n",
      "469:\tlearn: 0.0023133\ttotal: 1.99s\tremaining: 127ms\n",
      "470:\tlearn: 0.0023048\ttotal: 2s\tremaining: 123ms\n",
      "471:\tlearn: 0.0022996\ttotal: 2s\tremaining: 119ms\n",
      "472:\tlearn: 0.0022960\ttotal: 2s\tremaining: 114ms\n",
      "473:\tlearn: 0.0022861\ttotal: 2.01s\tremaining: 110ms\n",
      "474:\tlearn: 0.0022749\ttotal: 2.01s\tremaining: 106ms\n",
      "475:\tlearn: 0.0022659\ttotal: 2.02s\tremaining: 102ms\n",
      "476:\tlearn: 0.0022579\ttotal: 2.02s\tremaining: 97.4ms\n",
      "477:\tlearn: 0.0022505\ttotal: 2.02s\tremaining: 93.1ms\n",
      "478:\tlearn: 0.0022448\ttotal: 2.03s\tremaining: 88.8ms\n",
      "479:\tlearn: 0.0022346\ttotal: 2.03s\tremaining: 84.6ms\n",
      "480:\tlearn: 0.0022247\ttotal: 2.03s\tremaining: 80.3ms\n",
      "481:\tlearn: 0.0022159\ttotal: 2.04s\tremaining: 76.1ms\n",
      "482:\tlearn: 0.0022047\ttotal: 2.04s\tremaining: 71.9ms\n",
      "483:\tlearn: 0.0021941\ttotal: 2.04s\tremaining: 67.6ms\n",
      "484:\tlearn: 0.0021841\ttotal: 2.05s\tremaining: 63.4ms\n",
      "485:\tlearn: 0.0021739\ttotal: 2.05s\tremaining: 59.1ms\n",
      "486:\tlearn: 0.0021662\ttotal: 2.06s\tremaining: 54.9ms\n",
      "487:\tlearn: 0.0021559\ttotal: 2.06s\tremaining: 50.7ms\n",
      "488:\tlearn: 0.0021491\ttotal: 2.06s\tremaining: 46.5ms\n",
      "489:\tlearn: 0.0021446\ttotal: 2.07s\tremaining: 42.2ms\n",
      "490:\tlearn: 0.0021352\ttotal: 2.07s\tremaining: 38ms\n",
      "491:\tlearn: 0.0021260\ttotal: 2.08s\tremaining: 33.8ms\n",
      "492:\tlearn: 0.0021151\ttotal: 2.08s\tremaining: 29.6ms\n",
      "493:\tlearn: 0.0021092\ttotal: 2.09s\tremaining: 25.4ms\n",
      "494:\tlearn: 0.0021082\ttotal: 2.09s\tremaining: 21.1ms\n",
      "495:\tlearn: 0.0021034\ttotal: 2.1s\tremaining: 16.9ms\n",
      "496:\tlearn: 0.0020962\ttotal: 2.1s\tremaining: 12.7ms\n",
      "497:\tlearn: 0.0020879\ttotal: 2.1s\tremaining: 8.45ms\n",
      "498:\tlearn: 0.0020768\ttotal: 2.11s\tremaining: 4.22ms\n",
      "499:\tlearn: 0.0020656\ttotal: 2.11s\tremaining: 0us\n",
      "AUC:  0.7820058997050148 AUPRC:  0.4854356236509963\n",
      "{'learning_rate': 0.1, 'max_depth': 4, 'n_estimators': 500, 'random_state': 42}\n"
     ]
    }
   ],
   "source": [
    "parameter = {'n_estimators': [500], 'max_depth': [4], 'learning_rate':[0.1], 'random_state':[42]}\n",
    "aCB = model_selection.GridSearchCV(cb.CatBoostClassifier(),parameter, cv=5, n_jobs=-1)\n",
    "aCB.fit(Atrain, AtrainY)\n",
    "CAmodel = aCB.predict_proba(Atest)   \n",
    "    \n",
    "CAauc  = metrics.roc_auc_score(AtestY, CAmodel[:,1])\n",
    "CAfpr, CAtpr, CAthresholds = metrics.roc_curve(AtestY, CAmodel[:,1])\n",
    "CAauprc  = metrics.average_precision_score(AtestY, CAmodel[:,1])\n",
    "CAr, CAp, CAthresholds1 = metrics.precision_recall_curve(AtestY, CAmodel[:,1])\n",
    "    \n",
    "print('AUC: ', CAauc, 'AUPRC: ', CAauprc)\n",
    "print(aCB.best_params_)"
   ]
  },
  {
   "cell_type": "code",
   "execution_count": 21,
   "metadata": {},
   "outputs": [
    {
     "name": "stdout",
     "output_type": "stream",
     "text": [
      "AUC:  0.6718289085545723 AUPRC:  0.32415851036641147\n",
      "{'algorithm': 'auto', 'n_neighbors': 5, 'weights': 'distance'}\n"
     ]
    }
   ],
   "source": [
    "parameter = {'n_neighbors': [5], 'weights': ['distance'], 'algorithm':['auto']}\n",
    "aKNN = model_selection.GridSearchCV(neighbors.KNeighborsClassifier(),parameter, cv=5, n_jobs=-1)\n",
    "aKNN.fit(Atrain, AtrainY)\n",
    "KAmodel = aKNN.predict_proba(Atest)   \n",
    "    \n",
    "KAauc  = metrics.roc_auc_score(AtestY, KAmodel[:,1])\n",
    "KAfpr, KAtpr, KAthresholds = metrics.roc_curve(AtestY, KAmodel[:,1])\n",
    "KAauprc  = metrics.average_precision_score(AtestY, KAmodel[:,1])\n",
    "KAr, KAp, KAthresholds1 = metrics.precision_recall_curve(AtestY, KAmodel[:,1])\n",
    "    \n",
    "print('AUC: ', KAauc, 'AUPRC: ', KAauprc)\n",
    "print(aKNN.best_params_)"
   ]
  },
  {
   "cell_type": "code",
   "execution_count": null,
   "metadata": {},
   "outputs": [],
   "source": []
  },
  {
   "cell_type": "code",
   "execution_count": 22,
   "metadata": {},
   "outputs": [],
   "source": [
    "from sklearn.gaussian_process.kernels import RBF"
   ]
  },
  {
   "cell_type": "code",
   "execution_count": 25,
   "metadata": {
    "colab": {
     "base_uri": "https://localhost:8080/",
     "height": 72
    },
    "colab_type": "code",
    "id": "rnkKI-0fJw1k",
    "outputId": "020c19d8-30ba-4780-cf38-b8df12b309f1"
   },
   "outputs": [
    {
     "name": "stdout",
     "output_type": "stream",
     "text": [
      "AUC:  0.8589970501474926 AUPRC:  0.5510707195880544\n",
      "{'max_iter_predict': 100, 'multi_class': 'one_vs_rest', 'n_restarts_optimizer': 0, 'random_state': 42, 'warm_start': True}\n"
     ]
    }
   ],
   "source": [
    "Kernel = 1.0 * RBF(1.0)\n",
    "parameter = {'n_restarts_optimizer': [0], 'max_iter_predict': [100], \n",
    "             'warm_start':[True], 'multi_class':['one_vs_rest'], 'random_state': [42]}\n",
    "aGPC = model_selection.GridSearchCV(gaussian_process.GaussianProcessClassifier(kernel=Kernel),\n",
    "                                    parameter, cv=5, n_jobs=-1)\n",
    "aGPC.fit(Atrain, AtrainY)\n",
    "GAmodel = aGPC.predict_proba(Atest)   \n",
    "    \n",
    "GAauc  = metrics.roc_auc_score(AtestY, GAmodel[:,1])\n",
    "GAfpr, GAtpr, GAthresholds = metrics.roc_curve(AtestY, GAmodel[:,1])\n",
    "GAauprc  = metrics.average_precision_score(AtestY, GAmodel[:,1])\n",
    "GAr, GAp, GAthresholds1 = metrics.precision_recall_curve(AtestY, GAmodel[:,1])\n",
    "    \n",
    "print('AUC: ', GAauc, 'AUPRC: ', GAauprc)\n",
    "print(aGPC.best_params_)"
   ]
  },
  {
   "cell_type": "code",
   "execution_count": 27,
   "metadata": {
    "colab": {
     "base_uri": "https://localhost:8080/",
     "height": 873
    },
    "colab_type": "code",
    "id": "wZBdmT5LJw1s",
    "outputId": "21aef4ea-1487-45a6-b730-9f5f8572e65d"
   },
   "outputs": [
    {
     "data": {
      "image/png": "[encoded data removed]",
      "text/plain": [
       "<Figure size 720x720 with 1 Axes>"
      ]
     },
     "metadata": {},
     "output_type": "display_data"
    }
   ],
   "source": [
    "plt.figure(figsize=(10,10))\n",
    "plt.plot(CAfpr, CAtpr, label = 'CB (area = %0.4f)' % CAauc)\n",
    "plt.plot(LAfpr, LAtpr, label = 'LGB (area = %0.4f)' % LAauc)\n",
    "plt.plot(RAfpr, RAtpr, label = 'RF (area = %0.4f)' % RAauc)\n",
    "plt.plot(KAfpr, KAtpr, label = 'SVM (area = %0.4f)' % KAauc)\n",
    "plt.plot(XAfpr, XAtpr, label = 'XGB (area = %0.4f)' % XAauc)\n",
    "\n",
    "plt.plot([0,1], [0,1], 'r--')\n",
    "plt.xlim(-0.05, 1.05)\n",
    "plt.ylim(-0.05, 1.05)\n",
    "plt.xlabel('False Positive Rate')\n",
    "plt.ylabel('True Positive Rate')\n",
    "plt.title('Ascent-2 Cohort AUROC')\n",
    "plt.legend(loc = 'lower right')\n",
    "#plt.savefig(\"1ASCENT_KPCA.png\", format=\"png\")\n",
    "plt.show()"
   ]
  },
  {
   "cell_type": "code",
   "execution_count": 28,
   "metadata": {
    "colab": {
     "base_uri": "https://localhost:8080/",
     "height": 873
    },
    "colab_type": "code",
    "id": "MwCoRyPtJw12",
    "outputId": "5c3cbd3d-bc92-4c99-9bc9-8a73d45cd21c"
   },
   "outputs": [
    {
     "data": {
      "image/png": "[encoded data removed]",
      "text/plain": [
       "<Figure size 720x720 with 1 Axes>"
      ]
     },
     "metadata": {},
     "output_type": "display_data"
    }
   ],
   "source": [
    "plt.figure(figsize=(10,10))\n",
    "plt.plot(CAr, CAp, label = 'CB (area = %0.4f)' % CAauprc)\n",
    "plt.plot(LAr, LAp, label = 'LGB (area = %0.4f)' % LAauprc)\n",
    "plt.plot(RAr, RAp, label = 'RF (area = %0.4f)' % RAauprc)\n",
    "plt.plot(KAr, KAp, label = 'KNN (area = %0.4f)' % KAauprc)\n",
    "plt.plot(XAr, XAp, label = 'XGB (area = %0.4f)' % XAauprc)\n",
    "\n",
    "plt.xlim(-0.05, 1.05)\n",
    "plt.ylim(-0.05, 1.05)\n",
    "plt.xlabel('Recall')\n",
    "plt.ylabel('Precision')\n",
    "plt.title('Ascent-2 Cohort AUPRC')\n",
    "plt.legend(loc = 'upper right')\n",
    "#plt.savefig(\"1ASCENT_KPCAprc.png\", format=\"png\")\n",
    "plt.show()"
   ]
  }
 ],
 "metadata": {
  "colab": {
   "name": "KPCA.ipynb",
   "provenance": []
  },
  "kernelspec": {
   "display_name": "Python 3",
   "language": "python",
   "name": "python3"
  },
  "language_info": {
   "codemirror_mode": {
    "name": "ipython",
    "version": 3
   },
   "file_extension": ".py",
   "mimetype": "text/x-python",
   "name": "python",
   "nbconvert_exporter": "python",
   "pygments_lexer": "ipython3",
   "version": "3.6.10"
  }
 },
 "nbformat": 4,
 "nbformat_minor": 1
}
